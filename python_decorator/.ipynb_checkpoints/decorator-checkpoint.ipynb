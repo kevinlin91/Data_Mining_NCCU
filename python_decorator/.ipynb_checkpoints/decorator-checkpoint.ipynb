{
 "cells": [
  {
   "cell_type": "markdown",
   "metadata": {},
   "source": [
    "<h2>Basic of Function</h2>"
   ]
  },
  {
   "cell_type": "code",
   "execution_count": 37,
   "metadata": {
    "collapsed": false
   },
   "outputs": [
    {
     "name": "stdout",
     "output_type": "stream",
     "text": [
      "HELLO WORLD\n"
     ]
    }
   ],
   "source": [
    "def hello_world(target=\"hello world\"):\n",
    "    return target.upper()\n",
    "\n",
    "print hello_world()"
   ]
  },
  {
   "cell_type": "code",
   "execution_count": 39,
   "metadata": {
    "collapsed": false
   },
   "outputs": [
    {
     "name": "stdout",
     "output_type": "stream",
     "text": [
      "HELLO WORLD\n"
     ]
    }
   ],
   "source": [
    "transfer = hello_world()\n",
    "print transfer\n"
   ]
  },
  {
   "cell_type": "code",
   "execution_count": 41,
   "metadata": {
    "collapsed": false
   },
   "outputs": [
    {
     "name": "stdout",
     "output_type": "stream",
     "text": [
      "HEELO WORLD\n"
     ]
    }
   ],
   "source": [
    "def new_world():\n",
    "    def hello_world2(target=\"heelo world\"):\n",
    "        return target.upper()\n",
    "    print hello_world2()\n",
    "    \n",
    "new_world()"
   ]
  },
  {
   "cell_type": "code",
   "execution_count": 42,
   "metadata": {
    "collapsed": false
   },
   "outputs": [
    {
     "name": "stdout",
     "output_type": "stream",
     "text": [
      "<function world1 at 0x00000000033C7358>\n",
      "HELLO WORLD\n",
      "hello world\n"
     ]
    }
   ],
   "source": [
    "def change_world(world_type=\"upper\"):\n",
    "    def world1(target=\"hello world\"):\n",
    "        return target.upper()\n",
    "    def world2(target=\"hello world\"):\n",
    "        return target.lower()\n",
    "    if  world_type== \"upper\":\n",
    "        return world1\n",
    "    else:\n",
    "        return world2\n",
    "\n",
    "fresh_world = change_world()\n",
    "\n",
    "print fresh_world\n",
    "print fresh_world()\n",
    "print change_world(\"lower\")()\n",
    "\n",
    "\n"
   ]
  },
  {
   "cell_type": "code",
   "execution_count": 44,
   "metadata": {
    "collapsed": false
   },
   "outputs": [
    {
     "name": "stdout",
     "output_type": "stream",
     "text": [
      "Is this a world?\n",
      "HELLO WORLD\n"
     ]
    }
   ],
   "source": [
    "def world_func(func):\n",
    "    print \"Is this a world?\"\n",
    "    print func\n",
    "    \n",
    "world_func(hello_world())"
   ]
  },
  {
   "cell_type": "markdown",
   "metadata": {},
   "source": [
    "<h2>Basic of Decorator</h2>"
   ]
  },
  {
   "cell_type": "markdown",
   "metadata": {},
   "source": [
    "<h3 style=\"color:red;\">a bad example</h3>"
   ]
  },
  {
   "cell_type": "code",
   "execution_count": 58,
   "metadata": {
    "collapsed": false
   },
   "outputs": [
    {
     "name": "stdout",
     "output_type": "stream",
     "text": [
      "user_name\n",
      "Administrator\n"
     ]
    }
   ],
   "source": [
    "#log which function is execute\n",
    "def function_log(func):\n",
    "    print func.__name__\n",
    "    func()\n",
    "    \n",
    "def user_name():\n",
    "    print \"Administrator\"\n",
    "\n",
    "function_log(user_name)"
   ]
  },
  {
   "cell_type": "markdown",
   "metadata": {},
   "source": [
    "<h3 style=\"color:red;\">decorator</h3>"
   ]
  },
  {
   "cell_type": "code",
   "execution_count": 75,
   "metadata": {
    "collapsed": false
   },
   "outputs": [
    {
     "name": "stdout",
     "output_type": "stream",
     "text": [
      "user_name1\n",
      "Administrator\n"
     ]
    }
   ],
   "source": [
    "def function_log1(func):\n",
    "    def wrap1():\n",
    "        print func.__name__\n",
    "        return func()\n",
    "    return wrap1\n",
    "def user_name1():\n",
    "    print \"Administrator\"\n",
    "\n",
    "user_name1 = function_log1(user_name1)\n",
    "user_name1()"
   ]
  },
  {
   "cell_type": "markdown",
   "metadata": {},
   "source": [
    "<h3 style=\"color:red;\">decorator syntax sugar</h3>"
   ]
  },
  {
   "cell_type": "code",
   "execution_count": 74,
   "metadata": {
    "collapsed": false
   },
   "outputs": [
    {
     "name": "stdout",
     "output_type": "stream",
     "text": [
      "user_name2\n",
      "Administrator\n"
     ]
    }
   ],
   "source": [
    "def function_log2(func):\n",
    "    def wrap2():\n",
    "        print func.__name__\n",
    "        return func()\n",
    "    return wrap2\n",
    "\n",
    "@function_log2\n",
    "def user_name2():\n",
    "    print \"Administrator\"\n",
    "\n",
    "user_name2()"
   ]
  },
  {
   "cell_type": "markdown",
   "metadata": {},
   "source": [
    "<h3 style=\"color:red;\">decorator with some perameters</h3>"
   ]
  },
  {
   "cell_type": "code",
   "execution_count": 84,
   "metadata": {
    "collapsed": false
   },
   "outputs": [
    {
     "name": "stdout",
     "output_type": "stream",
     "text": [
      "user_name2\n",
      "Administrator\n",
      "user_name2\n",
      "Administrator\n"
     ]
    }
   ],
   "source": [
    "def function_log2(func):\n",
    "    def wrap2(*args,**kwargs):\n",
    "        print func.__name__\n",
    "        return func(*args,**kwargs)\n",
    "    return wrap2\n",
    "\n",
    "@function_log2\n",
    "def user_name2(name=None):\n",
    "    if name == None:\n",
    "        print \"Administrator\"\n",
    "    else:\n",
    "        print name\n",
    "\n",
    "user_name2()\n",
    "user_name2(\"kevin\")"
   ]
  },
  {
   "cell_type": "markdown",
   "metadata": {},
   "source": [
    "<h2>Example of Decorator</h2>"
   ]
  },
  {
   "cell_type": "code",
   "execution_count": 89,
   "metadata": {
    "collapsed": false
   },
   "outputs": [
    {
     "ename": "SyntaxError",
     "evalue": "invalid syntax (<ipython-input-89-ced0948f1b19>, line 2)",
     "output_type": "error",
     "traceback": [
      "\u001b[1;36m  File \u001b[1;32m\"<ipython-input-89-ced0948f1b19>\"\u001b[1;36m, line \u001b[1;32m2\u001b[0m\n\u001b[1;33m    from networkx import generators.random_graphs\u001b[0m\n\u001b[1;37m                                   ^\u001b[0m\n\u001b[1;31mSyntaxError\u001b[0m\u001b[1;31m:\u001b[0m invalid syntax\n"
     ]
    }
   ],
   "source": [
    "from time import time\n",
    "from networkx import generators\n",
    "def function_execute_time(func):\n",
    "    def calculate_time(*args,**kwargs):\n",
    "        start_time = time()\n",
    "        return func(*args,**kwargs)\n",
    "        end_time = time()\n",
    "        print \"Function execute time: %f\" % (end_time-start_time)\n",
    "    return calculate_time    \n",
    "\n",
    "@function_execute_time\n",
    "def graph_generator(n=100,p=0.5):\n",
    "    random_graphs.fast_gnp_random_graph(n,p)"
   ]
  }
 ],
 "metadata": {
  "kernelspec": {
   "display_name": "Python 2",
   "language": "python",
   "name": "python2"
  },
  "language_info": {
   "codemirror_mode": {
    "name": "ipython",
    "version": 2
   },
   "file_extension": ".py",
   "mimetype": "text/x-python",
   "name": "python",
   "nbconvert_exporter": "python",
   "pygments_lexer": "ipython2",
   "version": "2.7.11"
  }
 },
 "nbformat": 4,
 "nbformat_minor": 0
}
