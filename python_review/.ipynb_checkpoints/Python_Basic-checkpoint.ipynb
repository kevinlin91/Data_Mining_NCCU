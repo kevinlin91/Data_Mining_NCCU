{
 "cells": [
  {
   "cell_type": "markdown",
   "metadata": {
    "slideshow": {
     "slide_type": "slide"
    }
   },
   "source": [
    "# 每個程式語言的第一支程式\n",
    ">Hello World"
   ]
  },
  {
   "cell_type": "code",
   "execution_count": 1,
   "metadata": {
    "collapsed": false,
    "slideshow": {
     "slide_type": "fragment"
    }
   },
   "outputs": [
    {
     "name": "stdout",
     "output_type": "stream",
     "text": [
      "Hello World!\n"
     ]
    }
   ],
   "source": [
    "print \"Hello World!\""
   ]
  },
  {
   "cell_type": "markdown",
   "metadata": {
    "collapsed": true,
    "slideshow": {
     "slide_type": "subslide"
    }
   },
   "source": [
    "> 在螢幕端印出字串 print <br>\n",
    ">\"hello world\" 用雙括號(或單括號)宣告一個字串"
   ]
  },
  {
   "cell_type": "raw",
   "metadata": {
    "collapsed": true
   },
   "source": []
  },
  {
   "cell_type": "markdown",
   "metadata": {
    "collapsed": true,
    "slideshow": {
     "slide_type": "slide"
    }
   },
   "source": [
    "# 基本資料型態\n",
    ">整數(integer)<br>\n",
    ">布林值(boolean)<br>\n",
    ">浮點數(float)<br>\n",
    ">字串(string)<br><br>\n",
    ">可以使用type()來查看變數型態"
   ]
  },
  {
   "cell_type": "markdown",
   "metadata": {},
   "source": [
    "## 整數\n",
    ">整數型態為int<br>\n",
    ">在python內宣告變數的時候，除非特殊情況(轉型態)，不然不需要指定型態，python會自行偵測<br>\n",
    ">用 int() 或者 直接輸入"
   ]
  },
  {
   "cell_type": "code",
   "execution_count": 2,
   "metadata": {
    "collapsed": false
   },
   "outputs": [
    {
     "name": "stdout",
     "output_type": "stream",
     "text": [
      "5\n",
      "6\n",
      "1\n",
      "9\n",
      "<type 'int'>\n"
     ]
    }
   ],
   "source": [
    "a = 3\n",
    "b = int(2)\n",
    "print a+b\n",
    "print a*b\n",
    "print a-b\n",
    "#次方\n",
    "print a**b\n",
    "print type(a)"
   ]
  },
  {
   "cell_type": "markdown",
   "metadata": {},
   "source": [
    "## 布林值\n",
    ">布林值型態為bool<br>\n",
    ">使用 True 與 False 來宣告<br>\n",
    ">python提供三個邏輯運算元： and or not"
   ]
  },
  {
   "cell_type": "code",
   "execution_count": 3,
   "metadata": {
    "collapsed": false
   },
   "outputs": [
    {
     "name": "stdout",
     "output_type": "stream",
     "text": [
      "False\n",
      "True\n",
      "False\n",
      "True\n",
      "<type 'bool'>\n"
     ]
    }
   ],
   "source": [
    "a = True\n",
    "b = False\n",
    "print a and b\n",
    "print a or b\n",
    "print not a\n",
    "print not b\n",
    "print type(a)"
   ]
  },
  {
   "cell_type": "markdown",
   "metadata": {},
   "source": [
    "## 浮點數\n",
    ">浮點數型態為float<br>\n",
    ">用 float() 或者 直接輸入"
   ]
  },
  {
   "cell_type": "code",
   "execution_count": 4,
   "metadata": {
    "collapsed": false
   },
   "outputs": [
    {
     "name": "stdout",
     "output_type": "stream",
     "text": [
      "5.2\n",
      "6.51\n",
      "1.0\n",
      "<type 'float'>\n"
     ]
    }
   ],
   "source": [
    "a = 3.1\n",
    "b = float(2.1)\n",
    "print a+b\n",
    "print a*b\n",
    "print a-b\n",
    "print type(a)"
   ]
  },
  {
   "cell_type": "markdown",
   "metadata": {},
   "source": [
    "## 字串\n",
    ">字串型態為str<br>\n",
    ">用str() 或者 \" \" 或者 ' '來宣告"
   ]
  },
  {
   "cell_type": "code",
   "execution_count": 5,
   "metadata": {
    "collapsed": false
   },
   "outputs": [
    {
     "name": "stdout",
     "output_type": "stream",
     "text": [
      "Hello\n",
      "World\n"
     ]
    }
   ],
   "source": [
    "a = \"Hello\"\n",
    "b = \"World\"\n",
    "\n",
    "print a\n",
    "print b"
   ]
  },
  {
   "cell_type": "code",
   "execution_count": 6,
   "metadata": {
    "collapsed": false
   },
   "outputs": [
    {
     "name": "stdout",
     "output_type": "stream",
     "text": [
      "大寫:\n",
      "HELLO\n",
      "Hello\n",
      "小寫:\n",
      "hello\n",
      "字串分割:\n",
      "['H', 'llo']\n",
      "H\n"
     ]
    }
   ],
   "source": [
    "# 常用的字串處理Method #\n",
    "\n",
    "#轉大寫\n",
    "print \"大寫:\"\n",
    "print a.upper()\n",
    "print a\n",
    "\n",
    "#轉小寫\n",
    "print \"小寫:\"\n",
    "print a.lower()\n",
    "\n",
    "#字串分割 return list\n",
    "print \"字串分割:\"\n",
    "print a.split('e')\n",
    "print a.split('e')[0]"
   ]
  },
  {
   "cell_type": "code",
   "execution_count": 7,
   "metadata": {
    "collapsed": false
   },
   "outputs": [
    {
     "name": "stdout",
     "output_type": "stream",
     "text": [
      " abcd \n",
      "abcd\n",
      "True\n",
      "6\n",
      "Hello World\n",
      "False\n",
      " ebcd \n"
     ]
    }
   ],
   "source": [
    "#去除空白\n",
    "c = \" abcd \"\n",
    "print c\n",
    "print c.strip()\n",
    "#檢查某字元是否出現在字串 (in)\n",
    "print 'a' in c\n",
    "\n",
    "#字串長度\n",
    "print len(c)\n",
    "\n",
    "#字串合併\n",
    "print a+ \" \" + b\n",
    "\n",
    "#字串比較\n",
    "print a==b\n",
    "\n",
    "#字串取代\n",
    "print c.replace('a','e')"
   ]
  },
  {
   "cell_type": "code",
   "execution_count": 8,
   "metadata": {
    "collapsed": false
   },
   "outputs": [
    {
     "ename": "TypeError",
     "evalue": "unsupported operand type(s) for +: 'int' and 'str'",
     "output_type": "error",
     "traceback": [
      "\u001b[1;31m---------------------------------------------------------------------------\u001b[0m",
      "\u001b[1;31mTypeError\u001b[0m                                 Traceback (most recent call last)",
      "\u001b[1;32m<ipython-input-8-26981f9b183f>\u001b[0m in \u001b[0;36m<module>\u001b[1;34m()\u001b[0m\n\u001b[0;32m      2\u001b[0m \u001b[0md\u001b[0m \u001b[1;33m=\u001b[0m \u001b[1;36m123\u001b[0m\u001b[1;33m\u001b[0m\u001b[0m\n\u001b[0;32m      3\u001b[0m \u001b[0me\u001b[0m \u001b[1;33m=\u001b[0m \u001b[1;34m\"456\"\u001b[0m\u001b[1;33m\u001b[0m\u001b[0m\n\u001b[1;32m----> 4\u001b[1;33m \u001b[1;32mprint\u001b[0m \u001b[0md\u001b[0m\u001b[1;33m+\u001b[0m\u001b[0me\u001b[0m\u001b[1;33m\u001b[0m\u001b[0m\n\u001b[0m",
      "\u001b[1;31mTypeError\u001b[0m: unsupported operand type(s) for +: 'int' and 'str'"
     ]
    }
   ],
   "source": [
    "#數字加上字串\n",
    "d = 123\n",
    "e = \"456\"\n",
    "print d+e"
   ]
  },
  {
   "cell_type": "code",
   "execution_count": 9,
   "metadata": {
    "collapsed": false
   },
   "outputs": [
    {
     "name": "stdout",
     "output_type": "stream",
     "text": [
      "123456\n"
     ]
    }
   ],
   "source": [
    "print str(d)+e"
   ]
  },
  {
   "cell_type": "markdown",
   "metadata": {},
   "source": [
    "# 進階(群集)資料型態\n",
    "> 序列(sequence)型態<br>\n",
    " >>Tuple 元組<br>\n",
    " >> List 串列<br>\n",
    " >> Str 字串\n",
    " \n",
    "> 集合(set)型態<br>\n",
    "> 字典(dictionary)型態<br>"
   ]
  },
  {
   "cell_type": "markdown",
   "metadata": {},
   "source": [
    "## Tuple\n",
    ">可以是任何物件、字串、數字、List或是Tuple<br>\n",
    ">用( XXX , XXX )宣告<br>\n",
    ">宣告結束後不可對裡面的內容作修改"
   ]
  },
  {
   "cell_type": "code",
   "execution_count": 13,
   "metadata": {
    "collapsed": false
   },
   "outputs": [
    {
     "name": "stdout",
     "output_type": "stream",
     "text": [
      "('hello', 'world')\n",
      "hello\n",
      "world\n"
     ]
    }
   ],
   "source": [
    "#宣告tuple_test 為一個tuple物件\n",
    "tuple_test = ('hello','world')\n",
    "print tuple_test\n",
    "print tuple_test[0]\n",
    "print tuple_test[1]"
   ]
  },
  {
   "cell_type": "code",
   "execution_count": 14,
   "metadata": {
    "collapsed": false
   },
   "outputs": [
    {
     "name": "stdout",
     "output_type": "stream",
     "text": [
      "Traceback (most recent call last):\n",
      "  File \"<ipython-input-14-a8f72bf3806b>\", line 3, in <module>\n",
      "    tuple_test[0] = 'test'\n",
      "TypeError: 'tuple' object does not support item assignment\n",
      "\n"
     ]
    }
   ],
   "source": [
    "import traceback\n",
    "try:\n",
    "    tuple_test[0] = 'test'\n",
    "except:\n",
    "    print traceback.format_exc()"
   ]
  },
  {
   "cell_type": "markdown",
   "metadata": {},
   "source": [
    "## List\n",
    ">List 內也可以是任何物件、字串、Tuple或是List<br>\n",
    ">用 [ ] 來宣告<br>\n",
    ">宣告後可以修改裡面內容<br>"
   ]
  },
  {
   "cell_type": "code",
   "execution_count": 15,
   "metadata": {
    "collapsed": false
   },
   "outputs": [
    {
     "name": "stdout",
     "output_type": "stream",
     "text": [
      "[] [1, 2, 3, 4, 5] [1, 'a', 2, 'b', (1, 2)] [[1, 2], [3, 4]]\n",
      "1\n"
     ]
    }
   ],
   "source": [
    "#宣告list_test 為一個空串列\n",
    "list_test = list()\n",
    "list_test2 = [1,2,3,4,5]\n",
    "list_test3 = [1,'a',2,'b',(1,2)]\n",
    "list_test4 = [[1,2],[3,4]]\n",
    "print list_test,list_test2,list_test3,list_test4\n",
    "#利用 [ index ] 來取得串列內的元素\n",
    "print list_test2[0]"
   ]
  },
  {
   "cell_type": "code",
   "execution_count": 16,
   "metadata": {
    "collapsed": false
   },
   "outputs": [
    {
     "name": "stdout",
     "output_type": "stream",
     "text": [
      "Append:\n",
      "[1, 2, 3, 4]\n",
      "Insert:\n",
      "[1, 4, 2, 3]\n",
      "[1, 4, 2, 5, 3]\n",
      "[1, 4, 2, 5, 3, 6]\n",
      "Pop:\n",
      "[1, 2]\n",
      "[2]\n"
     ]
    }
   ],
   "source": [
    "#常用的串列處理Method\n",
    "\n",
    "#串接 notic:會直接對變數做修改\n",
    "print \"Append:\"\n",
    "list_append = [1,2,3]\n",
    "list_append.append(4)\n",
    "print list_append\n",
    "\n",
    "#插入\n",
    "print \"Insert:\"\n",
    "list_insert = [1,2,3]\n",
    "list_insert.insert(1,4)\n",
    "print list_insert\n",
    "list_insert.insert(-1,5) # -1 為最後一個元素\n",
    "print list_insert\n",
    "list_insert.insert(len(list_insert),6)\n",
    "print list_insert\n",
    "\n",
    "#拿掉\n",
    "print \"Pop:\"\n",
    "list_pop = [1,2,3]\n",
    "list_pop.pop()\n",
    "print list_pop\n",
    "list_pop.pop(0)\n",
    "print list_pop"
   ]
  },
  {
   "cell_type": "code",
   "execution_count": 17,
   "metadata": {
    "collapsed": false
   },
   "outputs": [
    {
     "name": "stdout",
     "output_type": "stream",
     "text": [
      "Index:\n",
      "1\n",
      "Count:\n",
      "3\n"
     ]
    }
   ],
   "source": [
    "#取得某元素的位置\n",
    "print \"Index:\"\n",
    "list_index = [1,2,3]\n",
    "print list_index.index(2)\n",
    "\n",
    "#計算某元素出現幾次\n",
    "print \"Count:\"\n",
    "list_count = [1,2,3,4,1,1]\n",
    "print list_count.count(1)"
   ]
  },
  {
   "cell_type": "code",
   "execution_count": 18,
   "metadata": {
    "collapsed": false
   },
   "outputs": [
    {
     "name": "stdout",
     "output_type": "stream",
     "text": [
      "[2, 3, 4, 5]\n",
      "[1, 2, 3, 4, 5]\n",
      "[6, 5, 4, 3, 2, 1]\n",
      "[1, 3, 5]\n"
     ]
    }
   ],
   "source": [
    "#List內的位置\n",
    "a = [1,2,3,4,5,6]\n",
    "print a[1:-1]\n",
    "print a[:-1]\n",
    "print a[::-1]\n",
    "print a[::2]"
   ]
  },
  {
   "cell_type": "code",
   "execution_count": 19,
   "metadata": {
    "collapsed": false
   },
   "outputs": [
    {
     "name": "stdout",
     "output_type": "stream",
     "text": [
      "[1, 2, 3, 4, 5, 6]\n",
      "[1, 2, 3, 4, 5, 6]\n",
      "[1, 2, 3, 4, 5, 6]\n"
     ]
    }
   ],
   "source": [
    "#排序\n",
    "a = [1,3,5,2,4,6]\n",
    "b = a\n",
    "a.sort()\n",
    "print a\n",
    "print sorted(b)\n",
    "print sorted(b)"
   ]
  },
  {
   "cell_type": "markdown",
   "metadata": {},
   "source": [
    "## Set\n",
    ">物件不重複<br>\n",
    ">用 Set(list)宣告"
   ]
  },
  {
   "cell_type": "code",
   "execution_count": 20,
   "metadata": {
    "collapsed": false
   },
   "outputs": [
    {
     "name": "stdout",
     "output_type": "stream",
     "text": [
      "set([1, 2, 3])\n",
      "<type 'set'>\n"
     ]
    }
   ],
   "source": [
    "set_test = set([1,2,3,1,2,3])\n",
    "print set_test\n",
    "print type(set_test)"
   ]
  },
  {
   "cell_type": "markdown",
   "metadata": {},
   "source": [
    "## Dictionary\n",
    ">Dicionary 由 key:value組成<br>\n",
    ">key值不能重複；value值可以重複<br>\n",
    ">使用 dict() 或者 {key:value,key2:value2,...}來宣告"
   ]
  },
  {
   "cell_type": "code",
   "execution_count": 21,
   "metadata": {
    "collapsed": false
   },
   "outputs": [
    {
     "name": "stdout",
     "output_type": "stream",
     "text": [
      "{'orange': 3, 'apple': 1, 'banana': 2}\n",
      "1\n"
     ]
    }
   ],
   "source": [
    "dictionary_test = {'apple':1,'banana':2,'orange':3}\n",
    "print dictionary_test\n",
    "print dictionary_test['apple']"
   ]
  },
  {
   "cell_type": "code",
   "execution_count": 22,
   "metadata": {
    "collapsed": false
   },
   "outputs": [
    {
     "name": "stdout",
     "output_type": "stream",
     "text": [
      "{'orange': 3, 'guava': 4, 'apple': 1, 'banana': 2}\n",
      "{'orange': 3, 'apple': 1, 'banana': 2}\n",
      "['orange', 'apple', 'banana']\n",
      "[3, 1, 2]\n"
     ]
    }
   ],
   "source": [
    "#增加\n",
    "dictionary_test['guava'] = 4\n",
    "print dictionary_test\n",
    "\n",
    "#刪除\n",
    "del dictionary_test['guava']\n",
    "print dictionary_test\n",
    "\n",
    "#找出所有的key值\n",
    "print dictionary_test.keys()\n",
    "#找出所有個value值\n",
    "print dictionary_test.values()"
   ]
  },
  {
   "cell_type": "markdown",
   "metadata": {},
   "source": [
    "# 控制結構\n",
    ">條件分支(conditional branching)\n",
    ">> If...elif...\n",
    "\n",
    ">迴圈(looping)\n",
    ">> while 迴圈<br>\n",
    ">> for 迴圈<br>\n",
    "\n",
    ">在python的語法內，排版很重要"
   ]
  },
  {
   "cell_type": "markdown",
   "metadata": {},
   "source": [
    "## IF\n",
    ">if boolean_expression1:<br>\n",
    ">>    suite1    <br>\n",
    "\n",
    ">elif boolean_expression2:<br>\n",
    ">>    suite2\n",
    "\n",
    ">......."
   ]
  },
  {
   "cell_type": "code",
   "execution_count": 23,
   "metadata": {
    "collapsed": false
   },
   "outputs": [
    {
     "name": "stdout",
     "output_type": "stream",
     "text": [
      "variable == 5\n"
     ]
    }
   ],
   "source": [
    "testif = 5\n",
    "if testif < 4:\n",
    "    print \"variable < 4\"\n",
    "elif testif > 6:\n",
    "    print \"variable > 6\"\n",
    "elif testif == 5:\n",
    "    print \"variable == 5\""
   ]
  },
  {
   "cell_type": "markdown",
   "metadata": {},
   "source": [
    "## While\n",
    ">while boolean_expression:\n",
    ">> while_suite\n"
   ]
  },
  {
   "cell_type": "code",
   "execution_count": 24,
   "metadata": {
    "collapsed": false
   },
   "outputs": [
    {
     "name": "stdout",
     "output_type": "stream",
     "text": [
      "1\n",
      "2\n",
      "3\n",
      "4\n"
     ]
    }
   ],
   "source": [
    "while_test = 1\n",
    "while while_test<5:\n",
    "    print while_test\n",
    "    while_test +=1"
   ]
  },
  {
   "cell_type": "markdown",
   "metadata": {},
   "source": [
    "## For\n",
    ">For expression in iterable:\n",
    ">>for_suit"
   ]
  },
  {
   "cell_type": "code",
   "execution_count": 25,
   "metadata": {
    "collapsed": false
   },
   "outputs": [
    {
     "name": "stdout",
     "output_type": "stream",
     "text": [
      "Data Mining\n",
      "Multimedia\n",
      "Social Computing\n"
     ]
    }
   ],
   "source": [
    "course_list = ['Data Mining','Multimedia','Social Computing']\n",
    "for course in course_list:\n",
    "    print course"
   ]
  },
  {
   "cell_type": "code",
   "execution_count": 26,
   "metadata": {
    "collapsed": false
   },
   "outputs": [
    {
     "name": "stdout",
     "output_type": "stream",
     "text": [
      "#range:\n",
      "Data Mining\n",
      "Multimedia\n",
      "Social Computing\n",
      "\n",
      "\n",
      "#xrange:\n",
      "Data Mining\n",
      "Multimedia\n",
      "Social Computing\n"
     ]
    }
   ],
   "source": [
    "#利用給定index的方式印出串列\n",
    "\n",
    "#range\n",
    "print \"#range:\"\n",
    "for i in range(0,3):\n",
    "    print course_list[i]\n",
    "print \"\\n\"\n",
    "#xrange (建議)\n",
    "print \"#xrange:\"\n",
    "for i in xrange(0,3):\n",
    "    print course_list[i]"
   ]
  },
  {
   "cell_type": "markdown",
   "metadata": {},
   "source": [
    "## range()與xrange的差別\n",
    ">range 是全部產生完後，return一個 list 回來使用。<br>\n",
    ">xrange 是一次產生一個值，並return一個值回來，所以xrange只適用於loop。(Generator)<br>\n",
    ">xrange在效能上面比較好(處理大量資料的時候)"
   ]
  },
  {
   "cell_type": "code",
   "execution_count": 27,
   "metadata": {
    "collapsed": false
   },
   "outputs": [
    {
     "name": "stdout",
     "output_type": "stream",
     "text": [
      "[0, 1, 2, 3, 4, 5, 6, 7, 8, 9]\n",
      "xrange(10)\n"
     ]
    }
   ],
   "source": [
    "print range(10)\n",
    "print xrange(10)"
   ]
  },
  {
   "cell_type": "code",
   "execution_count": 28,
   "metadata": {
    "collapsed": false
   },
   "outputs": [
    {
     "name": "stdout",
     "output_type": "stream",
     "text": [
      "[[1, 2, 3], [4, 5, 6], [7, 8, 9], [10, 11, 12]]\n",
      "Row:0,Column:0,Value:1\n",
      "Row:0,Column:1,Value:2\n",
      "Row:0,Column:2,Value:3\n",
      "Row:1,Column:0,Value:4\n",
      "Row:1,Column:1,Value:5\n",
      "Row:1,Column:2,Value:6\n",
      "Row:2,Column:0,Value:7\n",
      "Row:2,Column:1,Value:8\n",
      "Row:2,Column:2,Value:9\n",
      "Row:3,Column:0,Value:10\n",
      "Row:3,Column:1,Value:11\n",
      "Row:3,Column:2,Value:12\n"
     ]
    }
   ],
   "source": [
    "#二維陣列\n",
    "matrix = [\n",
    "    [1,2,3],\n",
    "    [4,5,6],\n",
    "    [7,8,9],\n",
    "    [10,11,12]\n",
    "]\n",
    "print matrix\n",
    "\n",
    "for i in xrange(len(matrix)):\n",
    "    for j in xrange(len(matrix[i])):\n",
    "        print \"Row:\"+str(i)+\",\"+\"Column:\"+str(j)+\",\"+\"Value:\"+str(matrix[i][j])"
   ]
  },
  {
   "cell_type": "markdown",
   "metadata": {},
   "source": [
    "# List comprehension\n",
    "語法簡潔，效率更快"
   ]
  },
  {
   "cell_type": "code",
   "execution_count": 29,
   "metadata": {
    "collapsed": false
   },
   "outputs": [
    {
     "name": "stdout",
     "output_type": "stream",
     "text": [
      "['kevin', 'Amy', 'Tom']\n"
     ]
    }
   ],
   "source": [
    "list_comprehension_data = [('kevin',100),('Amy',80),('Jack',40),('Tom',70)]\n",
    "list_name = list()\n",
    "#Use for to get student whose grade > 60\n",
    "for data in list_comprehension_data:\n",
    "    if data[1] > 60:\n",
    "        list_name.append(data[0])\n",
    "print list_name"
   ]
  },
  {
   "cell_type": "code",
   "execution_count": 30,
   "metadata": {
    "collapsed": false
   },
   "outputs": [
    {
     "name": "stdout",
     "output_type": "stream",
     "text": [
      "['kevin', 'Amy', 'Tom']\n"
     ]
    }
   ],
   "source": [
    "#use list comperhension to do the same task above\n",
    "list_comprehension = [data[0] for data in list_comprehension_data if data[1]>60]\n",
    "print list_comprehension"
   ]
  },
  {
   "cell_type": "markdown",
   "metadata": {},
   "source": [
    "# 自定義函式\n",
    ">def functionName ( parameters ):\n",
    ">>suite"
   ]
  },
  {
   "cell_type": "code",
   "execution_count": 31,
   "metadata": {
    "collapsed": false
   },
   "outputs": [
    {
     "name": "stdout",
     "output_type": "stream",
     "text": [
      "2 1\n"
     ]
    }
   ],
   "source": [
    "def swap(a,b):\n",
    "    tmp = a\n",
    "    a = b\n",
    "    b = tmp\n",
    "    return a,b\n",
    "\n",
    "func_a = 1\n",
    "func_b = 2\n",
    "swap_a,swap_b = swap(func_a,func_b)\n",
    "print swap_a,swap_b\n"
   ]
  },
  {
   "cell_type": "markdown",
   "metadata": {},
   "source": [
    "# 檔案讀寫\n",
    ">在Python內，最基本的是使用open()函數來對檔案做讀寫<br>\n",
    ">又可分為<br>\n",
    ">>r - 讀取(檔案需存在)<br>\n",
    ">>w - 新建檔案寫入(檔案可不存在，若存在則清空)<br>\n",
    ">>a - 資料附加到舊檔案後面(游標指在EOF)<br>\n",
    ">>r+ - 讀取舊資料並寫入(檔案需存在且游標指在開頭)<br>\n",
    ">>w+ - 清空檔案內容，新寫入的東西可在讀出(檔案可不存在，會自行新增)<br>\n",
    ">>a+ - 資料附加到舊檔案後面(游標指在EOF)，可讀取資料<br>\n",
    ">>b - 二進位模式<br>\n",
    "\n",
    ">常用到的Method有<br>\n",
    ">>write() (寫入)<br>\n",
    ">>close() (關閉)<br>\n",
    ">>read() (一次讀取全部內容)<br>\n",
    ">>readline() (逐行讀取)<br>"
   ]
  },
  {
   "cell_type": "code",
   "execution_count": 32,
   "metadata": {
    "collapsed": true
   },
   "outputs": [],
   "source": [
    "#write\n",
    "f = open(\"data_mining.txt\",\"w\")\n",
    "file_str = \"This is data mining\\n\" + \"Hello World\\n\"\n",
    "f.write(file_str)\n",
    "f.close()"
   ]
  },
  {
   "cell_type": "code",
   "execution_count": 33,
   "metadata": {
    "collapsed": false
   },
   "outputs": [
    {
     "ename": "IOError",
     "evalue": "[Errno 2] No such file or directory: u'multimedia.txt'",
     "output_type": "error",
     "traceback": [
      "\u001b[1;31m---------------------------------------------------------------------------\u001b[0m",
      "\u001b[1;31mIOError\u001b[0m                                   Traceback (most recent call last)",
      "\u001b[1;32m<ipython-input-33-865f8aab4ee7>\u001b[0m in \u001b[0;36m<module>\u001b[1;34m()\u001b[0m\n\u001b[1;32m----> 1\u001b[1;33m \u001b[0mget_ipython\u001b[0m\u001b[1;33m(\u001b[0m\u001b[1;33m)\u001b[0m\u001b[1;33m.\u001b[0m\u001b[0mmagic\u001b[0m\u001b[1;33m(\u001b[0m\u001b[1;34mu'more multimedia.txt'\u001b[0m\u001b[1;33m)\u001b[0m\u001b[1;33m\u001b[0m\u001b[0m\n\u001b[0m",
      "\u001b[1;32mC:\\Users\\kevinlin\\Anaconda\\lib\\site-packages\\IPython\\core\\interactiveshell.pyc\u001b[0m in \u001b[0;36mmagic\u001b[1;34m(self, arg_s)\u001b[0m\n\u001b[0;32m   2161\u001b[0m         \u001b[0mmagic_name\u001b[0m\u001b[1;33m,\u001b[0m \u001b[0m_\u001b[0m\u001b[1;33m,\u001b[0m \u001b[0mmagic_arg_s\u001b[0m \u001b[1;33m=\u001b[0m \u001b[0marg_s\u001b[0m\u001b[1;33m.\u001b[0m\u001b[0mpartition\u001b[0m\u001b[1;33m(\u001b[0m\u001b[1;34m' '\u001b[0m\u001b[1;33m)\u001b[0m\u001b[1;33m\u001b[0m\u001b[0m\n\u001b[0;32m   2162\u001b[0m         \u001b[0mmagic_name\u001b[0m \u001b[1;33m=\u001b[0m \u001b[0mmagic_name\u001b[0m\u001b[1;33m.\u001b[0m\u001b[0mlstrip\u001b[0m\u001b[1;33m(\u001b[0m\u001b[0mprefilter\u001b[0m\u001b[1;33m.\u001b[0m\u001b[0mESC_MAGIC\u001b[0m\u001b[1;33m)\u001b[0m\u001b[1;33m\u001b[0m\u001b[0m\n\u001b[1;32m-> 2163\u001b[1;33m         \u001b[1;32mreturn\u001b[0m \u001b[0mself\u001b[0m\u001b[1;33m.\u001b[0m\u001b[0mrun_line_magic\u001b[0m\u001b[1;33m(\u001b[0m\u001b[0mmagic_name\u001b[0m\u001b[1;33m,\u001b[0m \u001b[0mmagic_arg_s\u001b[0m\u001b[1;33m)\u001b[0m\u001b[1;33m\u001b[0m\u001b[0m\n\u001b[0m\u001b[0;32m   2164\u001b[0m \u001b[1;33m\u001b[0m\u001b[0m\n\u001b[0;32m   2165\u001b[0m     \u001b[1;31m#-------------------------------------------------------------------------\u001b[0m\u001b[1;33m\u001b[0m\u001b[1;33m\u001b[0m\u001b[0m\n",
      "\u001b[1;32mC:\\Users\\kevinlin\\Anaconda\\lib\\site-packages\\IPython\\core\\interactiveshell.pyc\u001b[0m in \u001b[0;36mrun_line_magic\u001b[1;34m(self, magic_name, line)\u001b[0m\n\u001b[0;32m   2082\u001b[0m                 \u001b[0mkwargs\u001b[0m\u001b[1;33m[\u001b[0m\u001b[1;34m'local_ns'\u001b[0m\u001b[1;33m]\u001b[0m \u001b[1;33m=\u001b[0m \u001b[0msys\u001b[0m\u001b[1;33m.\u001b[0m\u001b[0m_getframe\u001b[0m\u001b[1;33m(\u001b[0m\u001b[0mstack_depth\u001b[0m\u001b[1;33m)\u001b[0m\u001b[1;33m.\u001b[0m\u001b[0mf_locals\u001b[0m\u001b[1;33m\u001b[0m\u001b[0m\n\u001b[0;32m   2083\u001b[0m             \u001b[1;32mwith\u001b[0m \u001b[0mself\u001b[0m\u001b[1;33m.\u001b[0m\u001b[0mbuiltin_trap\u001b[0m\u001b[1;33m:\u001b[0m\u001b[1;33m\u001b[0m\u001b[0m\n\u001b[1;32m-> 2084\u001b[1;33m                 \u001b[0mresult\u001b[0m \u001b[1;33m=\u001b[0m \u001b[0mfn\u001b[0m\u001b[1;33m(\u001b[0m\u001b[1;33m*\u001b[0m\u001b[0margs\u001b[0m\u001b[1;33m,\u001b[0m\u001b[1;33m**\u001b[0m\u001b[0mkwargs\u001b[0m\u001b[1;33m)\u001b[0m\u001b[1;33m\u001b[0m\u001b[0m\n\u001b[0m\u001b[0;32m   2085\u001b[0m             \u001b[1;32mreturn\u001b[0m \u001b[0mresult\u001b[0m\u001b[1;33m\u001b[0m\u001b[0m\n\u001b[0;32m   2086\u001b[0m \u001b[1;33m\u001b[0m\u001b[0m\n",
      "\u001b[1;32m<decorator-gen-118>\u001b[0m in \u001b[0;36mless\u001b[1;34m(self, arg_s)\u001b[0m\n",
      "\u001b[1;32mC:\\Users\\kevinlin\\Anaconda\\lib\\site-packages\\IPython\\core\\magic.pyc\u001b[0m in \u001b[0;36m<lambda>\u001b[1;34m(f, *a, **k)\u001b[0m\n\u001b[0;32m    191\u001b[0m     \u001b[1;31m# but it's overkill for just that one bit of state.\u001b[0m\u001b[1;33m\u001b[0m\u001b[1;33m\u001b[0m\u001b[0m\n\u001b[0;32m    192\u001b[0m     \u001b[1;32mdef\u001b[0m \u001b[0mmagic_deco\u001b[0m\u001b[1;33m(\u001b[0m\u001b[0marg\u001b[0m\u001b[1;33m)\u001b[0m\u001b[1;33m:\u001b[0m\u001b[1;33m\u001b[0m\u001b[0m\n\u001b[1;32m--> 193\u001b[1;33m         \u001b[0mcall\u001b[0m \u001b[1;33m=\u001b[0m \u001b[1;32mlambda\u001b[0m \u001b[0mf\u001b[0m\u001b[1;33m,\u001b[0m \u001b[1;33m*\u001b[0m\u001b[0ma\u001b[0m\u001b[1;33m,\u001b[0m \u001b[1;33m**\u001b[0m\u001b[0mk\u001b[0m\u001b[1;33m:\u001b[0m \u001b[0mf\u001b[0m\u001b[1;33m(\u001b[0m\u001b[1;33m*\u001b[0m\u001b[0ma\u001b[0m\u001b[1;33m,\u001b[0m \u001b[1;33m**\u001b[0m\u001b[0mk\u001b[0m\u001b[1;33m)\u001b[0m\u001b[1;33m\u001b[0m\u001b[0m\n\u001b[0m\u001b[0;32m    194\u001b[0m \u001b[1;33m\u001b[0m\u001b[0m\n\u001b[0;32m    195\u001b[0m         \u001b[1;32mif\u001b[0m \u001b[0mcallable\u001b[0m\u001b[1;33m(\u001b[0m\u001b[0marg\u001b[0m\u001b[1;33m)\u001b[0m\u001b[1;33m:\u001b[0m\u001b[1;33m\u001b[0m\u001b[0m\n",
      "\u001b[1;32mC:\\Users\\kevinlin\\Anaconda\\lib\\site-packages\\ipykernel\\zmqshell.pyc\u001b[0m in \u001b[0;36mless\u001b[1;34m(self, arg_s)\u001b[0m\n\u001b[0;32m    230\u001b[0m             \u001b[0mcont\u001b[0m \u001b[1;33m=\u001b[0m \u001b[0mself\u001b[0m\u001b[1;33m.\u001b[0m\u001b[0mshell\u001b[0m\u001b[1;33m.\u001b[0m\u001b[0mpycolorize\u001b[0m\u001b[1;33m(\u001b[0m\u001b[0mopenpy\u001b[0m\u001b[1;33m.\u001b[0m\u001b[0mread_py_file\u001b[0m\u001b[1;33m(\u001b[0m\u001b[0marg_s\u001b[0m\u001b[1;33m,\u001b[0m \u001b[0mskip_encoding_cookie\u001b[0m\u001b[1;33m=\u001b[0m\u001b[0mFalse\u001b[0m\u001b[1;33m)\u001b[0m\u001b[1;33m)\u001b[0m\u001b[1;33m\u001b[0m\u001b[0m\n\u001b[0;32m    231\u001b[0m         \u001b[1;32melse\u001b[0m\u001b[1;33m:\u001b[0m\u001b[1;33m\u001b[0m\u001b[0m\n\u001b[1;32m--> 232\u001b[1;33m             \u001b[0mcont\u001b[0m \u001b[1;33m=\u001b[0m \u001b[0mopen\u001b[0m\u001b[1;33m(\u001b[0m\u001b[0marg_s\u001b[0m\u001b[1;33m)\u001b[0m\u001b[1;33m.\u001b[0m\u001b[0mread\u001b[0m\u001b[1;33m(\u001b[0m\u001b[1;33m)\u001b[0m\u001b[1;33m\u001b[0m\u001b[0m\n\u001b[0m\u001b[0;32m    233\u001b[0m         \u001b[0mpage\u001b[0m\u001b[1;33m.\u001b[0m\u001b[0mpage\u001b[0m\u001b[1;33m(\u001b[0m\u001b[0mcont\u001b[0m\u001b[1;33m)\u001b[0m\u001b[1;33m\u001b[0m\u001b[0m\n\u001b[0;32m    234\u001b[0m \u001b[1;33m\u001b[0m\u001b[0m\n",
      "\u001b[1;31mIOError\u001b[0m: [Errno 2] No such file or directory: u'multimedia.txt'"
     ]
    }
   ],
   "source": [
    "more multimedia.txt"
   ]
  },
  {
   "cell_type": "code",
   "execution_count": 34,
   "metadata": {
    "collapsed": false
   },
   "outputs": [
    {
     "name": "stdout",
     "output_type": "stream",
     "text": [
      "This is data mining\n",
      "Hello World\n",
      "\n"
     ]
    }
   ],
   "source": [
    "#read\n",
    "f = open(\"data_mining.txt\",\"r\")\n",
    "data = f.read()\n",
    "print data\n",
    "f.close()"
   ]
  },
  {
   "cell_type": "code",
   "execution_count": 35,
   "metadata": {
    "collapsed": false
   },
   "outputs": [
    {
     "name": "stdout",
     "output_type": "stream",
     "text": [
      "first line: This is data mining\n",
      "\n",
      "second line: Hello World\n",
      "\n"
     ]
    }
   ],
   "source": [
    "#readline\n",
    "f = open(\"data_mining.txt\",\"r\")\n",
    "data = f.readline()\n",
    "print \"first line:\",\n",
    "print data\n",
    "\n",
    "data = f.readline()\n",
    "print \"second line:\",\n",
    "print data\n",
    "f.close()"
   ]
  },
  {
   "cell_type": "code",
   "execution_count": 36,
   "metadata": {
    "collapsed": false
   },
   "outputs": [
    {
     "name": "stdout",
     "output_type": "stream",
     "text": [
      "This is data mining\n",
      "\n",
      "Hello World\n",
      "\n"
     ]
    }
   ],
   "source": [
    "#use loop to read the file by using readline()\n",
    "f = open(\"data_mining.txt\",\"r\")\n",
    "for line in f.readlines():\n",
    "    print line\n",
    "f.close()\n"
   ]
  },
  {
   "cell_type": "code",
   "execution_count": 37,
   "metadata": {
    "collapsed": false
   },
   "outputs": [
    {
     "name": "stdout",
     "output_type": "stream",
     "text": [
      "This is data mining\n",
      "\n",
      "Hello World\n",
      "\n"
     ]
    }
   ],
   "source": [
    "#with open的好處為在Local function跑完後會自動關檔\n",
    "with open(\"data_mining.txt\",\"r\") as f:\n",
    "    for line in f.readlines():\n",
    "        print line"
   ]
  },
  {
   "cell_type": "code",
   "execution_count": null,
   "metadata": {
    "collapsed": true
   },
   "outputs": [],
   "source": []
  },
  {
   "cell_type": "code",
   "execution_count": null,
   "metadata": {
    "collapsed": true
   },
   "outputs": [],
   "source": []
  },
  {
   "cell_type": "code",
   "execution_count": null,
   "metadata": {
    "collapsed": true
   },
   "outputs": [],
   "source": []
  }
 ],
 "metadata": {
  "celltoolbar": "Slideshow",
  "kernelspec": {
   "display_name": "Python 2",
   "language": "python",
   "name": "python2"
  },
  "language_info": {
   "codemirror_mode": {
    "name": "ipython",
    "version": 2
   },
   "file_extension": ".py",
   "mimetype": "text/x-python",
   "name": "python",
   "nbconvert_exporter": "python",
   "pygments_lexer": "ipython2",
   "version": "2.7.11"
  }
 },
 "nbformat": 4,
 "nbformat_minor": 0
}
